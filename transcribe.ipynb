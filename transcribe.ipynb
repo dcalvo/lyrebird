{
 "cells": [
  {
   "cell_type": "code",
   "execution_count": 1,
   "id": "d39af4af-d183-4667-85cc-20357e16dab0",
   "metadata": {},
   "outputs": [],
   "source": [
    "import whisper\n",
    "import wave\n",
    "import contextlib\n",
    "import os\n",
    "import matplotlib.pyplot as plt\n",
    "import numpy as np\n",
    "import datetime\n",
    "import random\n",
    "from tqdm.notebook import tqdm"
   ]
  },
  {
   "cell_type": "markdown",
   "id": "4aee0ee6-5983-426f-981b-5b0f492f4bf2",
   "metadata": {
    "tags": []
   },
   "source": [
    "# Speaker Dataset\n",
    "The dataset should consist of 22khz 16-bit PCM .wav files between 1 and 10 seconds in duration (approximately). The volume between files should be normalized. The speaker should be clearly audible with minimal background noise."
   ]
  },
  {
   "cell_type": "code",
   "execution_count": 2,
   "id": "6821cda7-d05a-4d78-b7bf-e41e976e30ca",
   "metadata": {},
   "outputs": [],
   "source": [
    "def get_wav_duration(fname):\n",
    "    with contextlib.closing(wave.open(fname,'r')) as f:\n",
    "        frames = f.getnframes()\n",
    "        rate = f.getframerate()\n",
    "        duration = frames / float(rate)\n",
    "        return duration"
   ]
  },
  {
   "cell_type": "code",
   "execution_count": 21,
   "id": "dcaac0b6-b4ca-4bbe-8b71-6077ceda04ab",
   "metadata": {},
   "outputs": [
    {
     "name": "stdout",
     "output_type": "stream",
     "text": [
      "6162 samples\n"
     ]
    }
   ],
   "source": [
    "dataset_directory = \"./lyre/dataset/obama-full\"\n",
    "\n",
    "durations = {}\n",
    "for file in os.listdir(dataset_directory):\n",
    "    filename = os.fsdecode(file)\n",
    "    if filename.split('.')[-1] == \"wav\":\n",
    "        path = os.path.abspath(f\"{dataset_directory}/{filename}\")\n",
    "        duration = get_wav_duration(path)\n",
    "        durations[path] = duration\n",
    "print(f\"{len(durations)} samples\")"
   ]
  },
  {
   "cell_type": "code",
   "execution_count": 22,
   "id": "d1e43cb6-d66e-45a7-bb08-c1fc045e1c99",
   "metadata": {},
   "outputs": [
    {
     "name": "stdout",
     "output_type": "stream",
     "text": [
      "5399 samples\n",
      "total sample duration: 11:44:07.302902\n",
      "selected sample duration: 8:42:43.680227\n",
      "min sample duration: 2.0238095238095237\n",
      "max sample duration: 11.495238095238095\n"
     ]
    },
    {
     "data": {
      "image/png": "[encoded data removed]",
      "text/plain": [
       "<Figure size 640x480 with 1 Axes>"
      ]
     },
     "metadata": {},
     "output_type": "display_data"
    }
   ],
   "source": [
    "min_seconds = 2\n",
    "max_seconds = 11.5\n",
    "samples = {}\n",
    "total_duration = 0\n",
    "selected_duration = 0\n",
    "\n",
    "for path, duration in durations.items():\n",
    "    total_duration += duration\n",
    "    if duration >= min_seconds and duration <= max_seconds:\n",
    "        samples[path] = duration\n",
    "        selected_duration += duration\n",
    "\n",
    "print(f\"{len(samples)} samples\")\n",
    "print(f\"total sample duration: {str(datetime.timedelta(seconds=total_duration))}\")\n",
    "print(f\"selected sample duration: {str(datetime.timedelta(seconds=selected_duration))}\")\n",
    "print(f\"min sample duration: {min(samples.values())}\")\n",
    "print(f\"max sample duration: {max(samples.values())}\")\n",
    "\n",
    "plt.hist(durations.values(), bins=100)\n",
    "plt.title(\"Frequency of speaker sample durations\")\n",
    "plt.xlabel(\"Time [seconds]\")\n",
    "plt.ylabel(\"Frequency\")\n",
    "plt.axvline(x = min_seconds, color = 'r', label=\"Minimum Duration\")\n",
    "plt.axvline(x = max_seconds, color = 'g', label=\"Maximum Duration\")\n",
    "plt.legend()\n",
    "plt.show()"
   ]
  },
  {
   "cell_type": "markdown",
   "id": "5a7841ff-0144-41f7-b5a5-38a98ca0ecb6",
   "metadata": {},
   "source": [
    "# Transcription"
   ]
  },
  {
   "cell_type": "code",
   "execution_count": 16,
   "id": "305f8091-5cf7-43b1-9c83-197c86269b50",
   "metadata": {},
   "outputs": [],
   "source": [
    "model = whisper.load_model(\"medium.en\")"
   ]
  },
  {
   "cell_type": "code",
   "execution_count": 17,
   "id": "6cd93dab-6547-42e2-8c7d-dc4d8d590e17",
   "metadata": {},
   "outputs": [],
   "source": [
    "# Tacotron2 character vocabulary\n",
    "_pad        = '_'\n",
    "_punctuation = '!\\'(),.:;? '\n",
    "_special = '-'\n",
    "_letters = 'ABCDEFGHIJKLMNOPQRSTUVWXYZabcdefghijklmnopqrstuvwxyz'\n",
    "_numbers = '0123456789' # technically not included in Tacotron2 but it'll get expanded during training\n",
    "\n",
    "# Export all symbols:\n",
    "symbols = set([_pad] + list(_special) + list(_punctuation) + list(_letters) + list(_numbers))\n",
    "\n",
    "def is_in_vocab(text):\n",
    "    \"\"\"\n",
    "    Returns True if 'text' uses ONLY the symbols defined above. Returns False otherwise.\n",
    "    \"\"\"\n",
    "    vocab = set(text)\n",
    "    return vocab.intersection(symbols) == vocab"
   ]
  },
  {
   "cell_type": "code",
   "execution_count": 18,
   "id": "f594fba5-9070-4b73-92aa-36d7877ef7fe",
   "metadata": {},
   "outputs": [
    {
     "data": {
      "application/vnd.jupyter.widget-view+json": {
       "model_id": "5af8162a885b481f97f89e33ffefd895",
       "version_major": 2,
       "version_minor": 0
      },
      "text/plain": [
       "  0%|          | 0/5 [00:00<?, ?it/s]"
      ]
     },
     "metadata": {},
     "output_type": "display_data"
    }
   ],
   "source": [
    "transcribed_samples = {}\n",
    "tossed_samples = {}\n",
    "\n",
    "for sample in tqdm(samples.keys()):\n",
    "    result = model.transcribe(sample)\n",
    "    text = result[\"text\"].strip()\n",
    "    text = text.replace('\"', \"\").replace(\"$\", \"\") # try to ease some sentences back into validity\n",
    "    if not is_in_vocab(text) or text[-1] not in _punctuation:\n",
    "        tossed_samples[sample] = text\n",
    "    else:\n",
    "        transcribed_samples[sample] = text"
   ]
  },
  {
   "cell_type": "code",
   "execution_count": 19,
   "id": "4fa8672e-1396-4b49-898e-33faadfcad68",
   "metadata": {},
   "outputs": [
    {
     "name": "stdout",
     "output_type": "stream",
     "text": [
      "Accepted Samples: 5\n",
      "/mnt/c/Users/david/source/obama-tts/lyre/dataset/test/Sound 03.wav|It was a lovely location, across from Promontory Point and Lake Michigan, with dogwood trees in the ample courtyard that bloomed a bright pink every spring.\n",
      "/mnt/c/Users/david/source/obama-tts/lyre/dataset/test/Sound 04.wav|The three-bedroom apartment, laid out like a rail car from front to back, wasn't large, but it had hardwood floors and decent light and a proper dining room with walnut cabinets.\n",
      "Tossed Samples: 0\n"
     ]
    },
    {
     "ename": "ValueError",
     "evalue": "Sample larger than population or is negative",
     "output_type": "error",
     "traceback": [
      "\u001b[0;31m---------------------------------------------------------------------------\u001b[0m",
      "\u001b[0;31mValueError\u001b[0m                                Traceback (most recent call last)",
      "Cell \u001b[0;32mIn [19], line 8\u001b[0m\n\u001b[1;32m      5\u001b[0m     \u001b[38;5;28mprint\u001b[39m(\u001b[38;5;124mf\u001b[39m\u001b[38;5;124m'\u001b[39m\u001b[38;5;132;01m{\u001b[39;00mpath\u001b[38;5;132;01m}\u001b[39;00m\u001b[38;5;124m|\u001b[39m\u001b[38;5;132;01m{\u001b[39;00mtext\u001b[38;5;132;01m}\u001b[39;00m\u001b[38;5;124m'\u001b[39m)\n\u001b[1;32m      7\u001b[0m \u001b[38;5;28mprint\u001b[39m(\u001b[38;5;124mf\u001b[39m\u001b[38;5;124m\"\u001b[39m\u001b[38;5;124mTossed Samples: \u001b[39m\u001b[38;5;132;01m{\u001b[39;00m\u001b[38;5;28mlen\u001b[39m(tossed_samples)\u001b[38;5;132;01m}\u001b[39;00m\u001b[38;5;124m\"\u001b[39m)\n\u001b[0;32m----> 8\u001b[0m \u001b[38;5;28;01mfor\u001b[39;00m path, text \u001b[38;5;129;01min\u001b[39;00m \u001b[43mrandom\u001b[49m\u001b[38;5;241;43m.\u001b[39;49m\u001b[43msample\u001b[49m\u001b[43m(\u001b[49m\u001b[38;5;28;43mlist\u001b[39;49m\u001b[43m(\u001b[49m\u001b[43mtossed_samples\u001b[49m\u001b[38;5;241;43m.\u001b[39;49m\u001b[43mitems\u001b[49m\u001b[43m(\u001b[49m\u001b[43m)\u001b[49m\u001b[43m)\u001b[49m\u001b[43m,\u001b[49m\u001b[43m \u001b[49m\u001b[43msamples_to_draw\u001b[49m\u001b[43m)\u001b[49m:\n\u001b[1;32m      9\u001b[0m     \u001b[38;5;28mprint\u001b[39m(\u001b[38;5;124mf\u001b[39m\u001b[38;5;124m'\u001b[39m\u001b[38;5;132;01m{\u001b[39;00mpath\u001b[38;5;132;01m}\u001b[39;00m\u001b[38;5;124m|\u001b[39m\u001b[38;5;132;01m{\u001b[39;00mtext\u001b[38;5;132;01m}\u001b[39;00m\u001b[38;5;124m'\u001b[39m)\n",
      "File \u001b[0;32m~/miniconda3/envs/whisper/lib/python3.10/random.py:482\u001b[0m, in \u001b[0;36mRandom.sample\u001b[0;34m(self, population, k, counts)\u001b[0m\n\u001b[1;32m    480\u001b[0m randbelow \u001b[38;5;241m=\u001b[39m \u001b[38;5;28mself\u001b[39m\u001b[38;5;241m.\u001b[39m_randbelow\n\u001b[1;32m    481\u001b[0m \u001b[38;5;28;01mif\u001b[39;00m \u001b[38;5;129;01mnot\u001b[39;00m \u001b[38;5;241m0\u001b[39m \u001b[38;5;241m<\u001b[39m\u001b[38;5;241m=\u001b[39m k \u001b[38;5;241m<\u001b[39m\u001b[38;5;241m=\u001b[39m n:\n\u001b[0;32m--> 482\u001b[0m     \u001b[38;5;28;01mraise\u001b[39;00m \u001b[38;5;167;01mValueError\u001b[39;00m(\u001b[38;5;124m\"\u001b[39m\u001b[38;5;124mSample larger than population or is negative\u001b[39m\u001b[38;5;124m\"\u001b[39m)\n\u001b[1;32m    483\u001b[0m result \u001b[38;5;241m=\u001b[39m [\u001b[38;5;28;01mNone\u001b[39;00m] \u001b[38;5;241m*\u001b[39m k\n\u001b[1;32m    484\u001b[0m setsize \u001b[38;5;241m=\u001b[39m \u001b[38;5;241m21\u001b[39m        \u001b[38;5;66;03m# size of a small set minus size of an empty list\u001b[39;00m\n",
      "\u001b[0;31mValueError\u001b[0m: Sample larger than population or is negative"
     ]
    }
   ],
   "source": [
    "samples_to_draw = 2\n",
    "\n",
    "print(f\"Accepted Samples: {len(transcribed_samples)}\")\n",
    "for path, text in random.sample(list(transcribed_samples.items()), samples_to_draw):\n",
    "    print(f'{path}|{text}')\n",
    "\n",
    "print(f\"Tossed Samples: {len(tossed_samples)}\")\n",
    "for path, text in random.sample(list(tossed_samples.items()), samples_to_draw):\n",
    "    print(f'{path}|{text}')"
   ]
  },
  {
   "cell_type": "code",
   "execution_count": 20,
   "id": "9ba35ade-84c2-411b-9fbb-2e7e45d04d53",
   "metadata": {},
   "outputs": [
    {
     "name": "stdout",
     "output_type": "stream",
     "text": [
      "wrote 4 training samples\n",
      "wrote 1 validation samples\n"
     ]
    }
   ],
   "source": [
    "# split keys by percentage\n",
    "train_valid_split = 0.90\n",
    "nkeys = int(train_valid_split * len(transcribed_samples))\n",
    "transcribed_keys = list(transcribed_samples.keys())\n",
    "train_keys = transcribed_keys[:nkeys]\n",
    "valid_keys = transcribed_keys[nkeys:]\n",
    "\n",
    "# create new dicts\n",
    "train_data = {k: transcribed_samples[k] for k in train_keys}\n",
    "valid_data = {k: transcribed_samples[k] for k in valid_keys}\n",
    "\n",
    "with open(f'{dataset_directory}/train_tacotron.txt', 'w') as tacotron_file, open(f'{dataset_directory}/train_waveglow.txt', 'w') as waveglow_file:\n",
    "    for path, text in train_data.items():\n",
    "        tacotron_file.write(f'{path}|{text}\\n')\n",
    "        waveglow_file.write(f'{path}\\n')\n",
    "print(f\"wrote {len(train_data)} training samples\")\n",
    "\n",
    "with open(f'{dataset_directory}/valid_tacotron.txt', 'w') as tacotron_file, open(f'{dataset_directory}/valid_waveglow.txt', 'w') as waveglow_file:\n",
    "    for path, text in valid_data.items():\n",
    "        tacotron_file.write(f'{path}|{text}\\n')\n",
    "        waveglow_file.write(f'{path}\\n')\n",
    "print(f\"wrote {len(valid_data)} validation samples\")"
   ]
  }
 ],
 "metadata": {
  "kernelspec": {
   "display_name": "Python 3",
   "language": "python",
   "name": "python3"
  },
  "language_info": {
   "codemirror_mode": {
    "name": "ipython",
    "version": 3
   },
   "file_extension": ".py",
   "mimetype": "text/x-python",
   "name": "python",
   "nbconvert_exporter": "python",
   "pygments_lexer": "ipython3",
   "version": "3.6.9"
  }
 },
 "nbformat": 4,
 "nbformat_minor": 5
}
